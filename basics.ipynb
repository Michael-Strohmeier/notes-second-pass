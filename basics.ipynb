{
  "nbformat": 4,
  "nbformat_minor": 0,
  "metadata": {
    "colab": {
      "name": "basics.ipynb",
      "provenance": []
    },
    "kernelspec": {
      "name": "python3",
      "display_name": "Python 3"
    },
    "accelerator": "GPU"
  },
  "cells": [
    {
      "cell_type": "markdown",
      "metadata": {
        "id": "6EoakuZ5BImp",
        "colab_type": "text"
      },
      "source": [
        "# Deep Learning"
      ]
    },
    {
      "cell_type": "markdown",
      "metadata": {
        "id": "JNodvjzIBq57",
        "colab_type": "text"
      },
      "source": [
        "## Intro\n",
        "\n",
        "An abstraction of https://pytorch.org/tutorials/beginner/blitz/tensor_tutorial.html#sphx-glr-beginner-blitz-tensor-tutorial-py"
      ]
    },
    {
      "cell_type": "code",
      "metadata": {
        "id": "Pe6vWir9Fusl",
        "colab_type": "code",
        "colab": {}
      },
      "source": [
        "import numpy as np\n",
        "import torch"
      ],
      "execution_count": 1,
      "outputs": []
    },
    {
      "cell_type": "markdown",
      "metadata": {
        "id": "DDD5tB9LFgSq",
        "colab_type": "text"
      },
      "source": [
        "### Scalar\n",
        "$x = \\begin{bmatrix} 2\\end{bmatrix}$"
      ]
    },
    {
      "cell_type": "code",
      "metadata": {
        "id": "sAXb5A8EFfpe",
        "colab_type": "code",
        "colab": {
          "base_uri": "https://localhost:8080/",
          "height": 34
        },
        "outputId": "bae9d02a-843e-4e3a-9d81-50c224344409"
      },
      "source": [
        "x = np.array([5])\n",
        "print(x)"
      ],
      "execution_count": 2,
      "outputs": [
        {
          "output_type": "stream",
          "text": [
            "[5]\n"
          ],
          "name": "stdout"
        }
      ]
    },
    {
      "cell_type": "markdown",
      "metadata": {
        "id": "UIz1cW3hGLWy",
        "colab_type": "text"
      },
      "source": [
        "### Vector (Vector Matrix)\n",
        "\n",
        "$x = \\begin{bmatrix} 9\\\\ 4\\end{bmatrix}$"
      ]
    },
    {
      "cell_type": "code",
      "metadata": {
        "id": "xDyG6PT6GeNp",
        "colab_type": "code",
        "colab": {
          "base_uri": "https://localhost:8080/",
          "height": 34
        },
        "outputId": "306a1600-75e2-4899-fda5-ff24ff968b26"
      },
      "source": [
        "x = np.array([6, 1])\n",
        "print(x)"
      ],
      "execution_count": 3,
      "outputs": [
        {
          "output_type": "stream",
          "text": [
            "[6 1]\n"
          ],
          "name": "stdout"
        }
      ]
    },
    {
      "cell_type": "markdown",
      "metadata": {
        "id": "oKK_hEaEBI1Q",
        "colab_type": "text"
      },
      "source": [
        "### Matrix\n",
        "\n",
        "$A = \\begin{bmatrix} 3 &5 &8 \\\\1 &1 &7 \\\\2 &1 &1\\end{bmatrix}$"
      ]
    },
    {
      "cell_type": "code",
      "metadata": {
        "id": "FwtaDXKiDIfA",
        "colab_type": "code",
        "colab": {
          "base_uri": "https://localhost:8080/",
          "height": 68
        },
        "outputId": "5915da51-a3aa-4969-f073-de8c5d80da72"
      },
      "source": [
        "A = np.array([[3, 5, 8],\n",
        "              [1, 1, 7],\n",
        "              [2, 1, 1]])\n",
        "print(A)"
      ],
      "execution_count": 4,
      "outputs": [
        {
          "output_type": "stream",
          "text": [
            "[[3 5 8]\n",
            " [1 1 7]\n",
            " [2 1 1]]\n"
          ],
          "name": "stdout"
        }
      ]
    },
    {
      "cell_type": "markdown",
      "metadata": {
        "id": "XpIp2PDCCIwd",
        "colab_type": "text"
      },
      "source": [
        "### Tensor \n",
        "Matrices in a Matrix:\n",
        "\n",
        "$x = \\begin{bmatrix} \\begin{bmatrix} 1 &5\\end{bmatrix} &\\begin{bmatrix} 3 &8\\end{bmatrix} \\\\\\begin{bmatrix} 7 &2\\end{bmatrix} &\\begin{bmatrix} 1 &1\\end{bmatrix}\\end{bmatrix}$\n"
      ]
    },
    {
      "cell_type": "code",
      "metadata": {
        "id": "S2OpfdQyE9iZ",
        "colab_type": "code",
        "colab": {
          "base_uri": "https://localhost:8080/",
          "height": 85
        },
        "outputId": "7991b8c1-0e35-4b29-ded9-f38af1884d6e"
      },
      "source": [
        "x = torch.rand(4, 2)\n",
        "print(x)"
      ],
      "execution_count": 5,
      "outputs": [
        {
          "output_type": "stream",
          "text": [
            "tensor([[0.4174, 0.3170],\n",
            "        [0.5991, 0.9864],\n",
            "        [0.3171, 0.1776],\n",
            "        [0.0619, 0.7359]])\n"
          ],
          "name": "stdout"
        }
      ]
    },
    {
      "cell_type": "code",
      "metadata": {
        "id": "mCTBxpXPHlur",
        "colab_type": "code",
        "colab": {
          "base_uri": "https://localhost:8080/",
          "height": 85
        },
        "outputId": "ecd3ce5b-633e-4210-a8da-f1e5532cdf01"
      },
      "source": [
        "x = torch.rand(4, 2)\n",
        "y = torch.rand(4, 2)\n",
        "\n",
        "print(torch.add(x, y))"
      ],
      "execution_count": 6,
      "outputs": [
        {
          "output_type": "stream",
          "text": [
            "tensor([[0.5454, 1.1786],\n",
            "        [1.8211, 0.8589],\n",
            "        [0.6221, 1.2042],\n",
            "        [0.6874, 1.7811]])\n"
          ],
          "name": "stdout"
        }
      ]
    },
    {
      "cell_type": "markdown",
      "metadata": {
        "id": "6Tq2q2ra3C1d",
        "colab_type": "text"
      },
      "source": [
        "### Building Blocks\n",
        "\n",
        "$x = \\begin{bmatrix} x_{1} &x_{2} &... &x_{n}\\end{bmatrix}$,\n",
        "$x^T = \\begin{bmatrix} x_{1} \\\\x_{2} \\\\\\vdots \\\\x_{n}\\end{bmatrix}$\n",
        "\n",
        "$w = \\begin{bmatrix} w_{1} &w_{2} &... &w_{n}\\end{bmatrix}$\n",
        "\n",
        "$b = 1(w_{0}) = w_{0}$"
      ]
    },
    {
      "cell_type": "markdown",
      "metadata": {
        "id": "qbPNuyST2jZy",
        "colab_type": "text"
      },
      "source": [
        "### Perceptron\n",
        "\n",
        "\n",
        "\n",
        "$b + \\sum xw$\n",
        "\n",
        "$= b + x^Tw$\n",
        "\n",
        "$=x^Tw + b$\n",
        "\n",
        "$z = g(x^Tw + b)$"
      ]
    },
    {
      "cell_type": "markdown",
      "metadata": {
        "id": "Nqs7V_2gBJA8",
        "colab_type": "text"
      },
      "source": [
        "## Neural Network\n"
      ]
    },
    {
      "cell_type": "markdown",
      "metadata": {
        "id": "RYgMM4gyxsWk",
        "colab_type": "text"
      },
      "source": [
        "### Loading Data and Hyperparameters"
      ]
    },
    {
      "cell_type": "code",
      "metadata": {
        "id": "D0Thqxj0Ta_H",
        "colab_type": "code",
        "colab": {}
      },
      "source": [
        "# hyperparameters\n",
        "image_size = 28 # 28x28\n",
        "\n",
        "epochs = 3\n",
        "batch_size = 32\n",
        "learning_rate = 0.00005"
      ],
      "execution_count": 7,
      "outputs": []
    },
    {
      "cell_type": "code",
      "metadata": {
        "id": "C0RU8J7tVQOF",
        "colab_type": "code",
        "colab": {
          "base_uri": "https://localhost:8080/",
          "height": 34
        },
        "outputId": "2dfe1895-9cd2-47ef-b495-9b4a316295f8"
      },
      "source": [
        "import torch\n",
        "import torch.optim as optim\n",
        "import torchvision\n",
        "import torchvision.transforms as transforms\n",
        "import torchvision.datasets as datasets\n",
        "from torch.utils.data import DataLoader\n",
        "import matplotlib.pyplot as plt\n",
        "\n",
        "transform = transforms.Compose([\n",
        "                  transforms.Resize(image_size),\n",
        "                  transforms.ToTensor(),\n",
        "                  transforms.Normalize((0.5,), (0.5)),\n",
        "                  ])\n",
        "\n",
        "dataset = datasets.MNIST(root=\"dataset/\", train=True, transform=transform, download=True)\n",
        "dataloader = DataLoader(dataset, batch_size=batch_size, shuffle=True)\n",
        "\n",
        "device = torch.device(\"cuda\" if torch.cuda.is_available() else \"cpu\")\n",
        "print(\"cuda\" if torch.cuda.is_available() else \"cpu\")"
      ],
      "execution_count": 8,
      "outputs": [
        {
          "output_type": "stream",
          "text": [
            "cuda\n"
          ],
          "name": "stdout"
        }
      ]
    },
    {
      "cell_type": "code",
      "metadata": {
        "id": "ghYbFhAJwXcJ",
        "colab_type": "code",
        "colab": {
          "base_uri": "https://localhost:8080/",
          "height": 220
        },
        "outputId": "5492d4e4-f4ce-4c8a-c938-daae20ecc76c"
      },
      "source": [
        "import matplotlib.pyplot as plt\n",
        "import numpy as np\n",
        "\n",
        "def imshow(img):\n",
        "    img = img / 2 + 0.5     # unnormalize\n",
        "    npimg = img.numpy()\n",
        "    plt.imshow(np.transpose(npimg, (1, 2, 0)))\n",
        "    plt.show()\n",
        "\n",
        "images, labels = iter(dataloader).next()\n",
        "imshow(torchvision.utils.make_grid(images))"
      ],
      "execution_count": 9,
      "outputs": [
        {
          "output_type": "display_data",
          "data": {
            "image/png": "[encoded data removed]",
            "text/plain": [
              "<Figure size 432x288 with 1 Axes>"
            ]
          },
          "metadata": {
            "tags": [],
            "needs_background": "light"
          }
        }
      ]
    },
    {
      "cell_type": "code",
      "metadata": {
        "id": "iXYRXgAfxavV",
        "colab_type": "code",
        "colab": {
          "base_uri": "https://localhost:8080/",
          "height": 102
        },
        "outputId": "802725c6-8e98-4fbe-fec3-20d2984dbb5d"
      },
      "source": [
        "import torch.nn as nn\n",
        "import torch.nn.functional as F\n",
        "\n",
        "class Net(nn.Module):\n",
        "  def __init__(self):\n",
        "    super(Net, self).__init__()\n",
        "    # fully connected layers\n",
        "    self.fc1 = nn.Linear(28 * 28, 256)\n",
        "    self.fc2 = nn.Linear(256, 256)\n",
        "    self.fc3 = nn.Linear(256, 10)\n",
        "    \n",
        "  def forward(self, x):\n",
        "    x = F.relu(self.fc1(x))\n",
        "    x = F.relu(self.fc2(x))\n",
        "    x = self.fc3(x)\n",
        "    return F.log_softmax(x)\n",
        "\n",
        "net = Net()\n",
        "print(net)"
      ],
      "execution_count": 10,
      "outputs": [
        {
          "output_type": "stream",
          "text": [
            "Net(\n",
            "  (fc1): Linear(in_features=784, out_features=256, bias=True)\n",
            "  (fc2): Linear(in_features=256, out_features=256, bias=True)\n",
            "  (fc3): Linear(in_features=256, out_features=10, bias=True)\n",
            ")\n"
          ],
          "name": "stdout"
        }
      ]
    },
    {
      "cell_type": "code",
      "metadata": {
        "id": "tuWYtDstxnpO",
        "colab_type": "code",
        "colab": {}
      },
      "source": [
        "# optimizer\n",
        "optimizer = optim.SGD(net.parameters(), lr=learning_rate, momentum=0.9)\n",
        "\n",
        "# loss function\n",
        "criterion = nn.CrossEntropyLoss()"
      ],
      "execution_count": 11,
      "outputs": []
    },
    {
      "cell_type": "code",
      "metadata": {
        "id": "gBwvNuW6Vw8X",
        "colab_type": "code",
        "colab": {
          "base_uri": "https://localhost:8080/",
          "height": 479
        },
        "outputId": "124fc1de-8317-4975-eb8c-ed71b1b1bdde"
      },
      "source": [
        "# train loop\n",
        "for epoch in range(epochs):  \n",
        "  for batch_idx, (data, targets) in enumerate(dataloader):\n",
        "    optimizer.zero_grad()\n",
        "    net_out = net(data.view(data.size(0), -1))\n",
        "    \n",
        "    loss = criterion(net_out, targets)\n",
        "    loss.backward()\n",
        "    optimizer.step()\n",
        "    \n",
        "    if batch_idx % 250 == 0:\n",
        "      print(f\"Epoch {epoch}/{epochs} Batch {batch_idx}/{len(dataloader)} Batch Loss {loss}\")"
      ],
      "execution_count": 12,
      "outputs": [
        {
          "output_type": "stream",
          "text": [
            "Epoch 0/3 Batch 0/1875 Batch Loss 2.308164596557617\n"
          ],
          "name": "stdout"
        },
        {
          "output_type": "stream",
          "text": [
            "/usr/local/lib/python3.6/dist-packages/ipykernel_launcher.py:16: UserWarning: Implicit dimension choice for log_softmax has been deprecated. Change the call to include dim=X as an argument.\n",
            "  app.launch_new_instance()\n"
          ],
          "name": "stderr"
        },
        {
          "output_type": "stream",
          "text": [
            "Epoch 0/3 Batch 250/1875 Batch Loss 2.2935330867767334\n",
            "Epoch 0/3 Batch 500/1875 Batch Loss 2.266801118850708\n",
            "Epoch 0/3 Batch 750/1875 Batch Loss 2.2358334064483643\n",
            "Epoch 0/3 Batch 1000/1875 Batch Loss 2.2087631225585938\n",
            "Epoch 0/3 Batch 1250/1875 Batch Loss 2.1786885261535645\n",
            "Epoch 0/3 Batch 1500/1875 Batch Loss 2.1363883018493652\n",
            "Epoch 0/3 Batch 1750/1875 Batch Loss 2.0913853645324707\n",
            "Epoch 1/3 Batch 0/1875 Batch Loss 2.082275629043579\n",
            "Epoch 1/3 Batch 250/1875 Batch Loss 2.016205072402954\n",
            "Epoch 1/3 Batch 500/1875 Batch Loss 2.0154480934143066\n",
            "Epoch 1/3 Batch 750/1875 Batch Loss 1.9044846296310425\n",
            "Epoch 1/3 Batch 1000/1875 Batch Loss 1.8175678253173828\n",
            "Epoch 1/3 Batch 1250/1875 Batch Loss 1.7047418355941772\n",
            "Epoch 1/3 Batch 1500/1875 Batch Loss 1.7425063848495483\n",
            "Epoch 1/3 Batch 1750/1875 Batch Loss 1.667839765548706\n",
            "Epoch 2/3 Batch 0/1875 Batch Loss 1.7086354494094849\n",
            "Epoch 2/3 Batch 250/1875 Batch Loss 1.6127393245697021\n",
            "Epoch 2/3 Batch 500/1875 Batch Loss 1.5032100677490234\n",
            "Epoch 2/3 Batch 750/1875 Batch Loss 1.2962987422943115\n",
            "Epoch 2/3 Batch 1000/1875 Batch Loss 1.3701220750808716\n",
            "Epoch 2/3 Batch 1250/1875 Batch Loss 1.363771677017212\n",
            "Epoch 2/3 Batch 1500/1875 Batch Loss 1.2867907285690308\n",
            "Epoch 2/3 Batch 1750/1875 Batch Loss 1.2684142589569092\n"
          ],
          "name": "stdout"
        }
      ]
    },
    {
      "cell_type": "code",
      "metadata": {
        "id": "kR2wajvtTuNA",
        "colab_type": "code",
        "colab": {}
      },
      "source": [
        "# testing\n",
        "\n",
        "# NEED TO SPLIT TEST AND TRAIN DATA STILL\n",
        "# NEED TO SPLIT TEST AND TRAIN DATA STILL"
      ],
      "execution_count": 13,
      "outputs": []
    },
    {
      "cell_type": "code",
      "metadata": {
        "id": "2isfjGxK6rF1",
        "colab_type": "code",
        "colab": {}
      },
      "source": [
        ""
      ],
      "execution_count": 13,
      "outputs": []
    }
  ]
}